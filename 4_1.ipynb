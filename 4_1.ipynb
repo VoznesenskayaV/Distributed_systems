{
  "nbformat": 4,
  "nbformat_minor": 0,
  "metadata": {
    "colab": {
      "provenance": []
    },
    "kernelspec": {
      "name": "python3",
      "display_name": "Python 3"
    },
    "language_info": {
      "name": "python"
    }
  },
  "cells": [
    {
      "cell_type": "markdown",
      "source": [
        "# Ширина полосы пропускания (бит/с)"
      ],
      "metadata": {
        "id": "SpuJDAIWiqgq"
      }
    },
    {
      "cell_type": "code",
      "execution_count": 1,
      "metadata": {
        "colab": {
          "base_uri": "https://localhost:8080/"
        },
        "id": "_nvJy5c0hbhA",
        "outputId": "3e72f003-06a8-4576-be30-e362a2e0348f"
      },
      "outputs": [
        {
          "output_type": "stream",
          "name": "stdout",
          "text": [
            "Gossip Interval (с) | Ширина полосы пропускания (бит/с)\n",
            "--------------------------------------------------\n",
            "       0.1        | 3,284,582.40\n",
            "       0.2        | 1,642,291.20\n",
            "       0.5        | 656,916.48\n",
            "       1.0        | 328,458.24\n",
            "       2.0        | 164,229.12\n",
            "--------------------------------------------------\n",
            "Средняя ширина полосы пропускания: 1,215,295.49 бит/с\n"
          ]
        }
      ],
      "source": [
        "import math\n",
        "\n",
        "def calculate_bandwidth(gossip_interval, gossip_fanout, nodes, packet_loss, node_failures):\n",
        "    # Константы\n",
        "    PACKET_SIZE = 1024  # байт\n",
        "    OVERHEAD = 1.2  # 20% накладных расходов\n",
        "\n",
        "    # Расчет активных узлов\n",
        "    active_nodes = nodes * (1 - node_failures)\n",
        "\n",
        "    # Расчет количества сообщений в секунду\n",
        "    messages_per_second = (1 / gossip_interval) * gossip_fanout * active_nodes\n",
        "\n",
        "    # Учет потери пакетов\n",
        "    effective_messages = messages_per_second * (1 - packet_loss)\n",
        "\n",
        "    # Расчет общего объема данных в секунду\n",
        "    data_per_second = effective_messages * PACKET_SIZE * OVERHEAD\n",
        "\n",
        "    # Перевод в биты в секунду\n",
        "    bandwidth_bps = data_per_second * 8\n",
        "\n",
        "    return bandwidth_bps\n",
        "\n",
        "# Входные данные:\n",
        "# 1. gossip_intervals - список интервалов gossip в секундах\n",
        "#    Тип: список float\n",
        "#    Описание: Определяет, как часто узлы обмениваются информацией\n",
        "gossip_intervals = [0.1, 0.2, 0.5, 1.0, 2.0]\n",
        "\n",
        "# 2. gossip_fanout - количество узлов, которым отправляется сообщение за один раунд\n",
        "#    Тип: int\n",
        "#    Описание: Определяет, скольким соседям узел отправляет обновления за один раунд gossip\n",
        "gossip_fanout = 3\n",
        "\n",
        "# 3. nodes - общее количество узлов в сети\n",
        "#    Тип: int\n",
        "#    Описание: Представляет размер сети\n",
        "nodes = 15\n",
        "\n",
        "# 4. packet_loss - процент потери пакетов\n",
        "#    Тип: float (0-1)\n",
        "#    Описание: Определяет долю пакетов, которые не достигают цели\n",
        "packet_loss = 0.01\n",
        "\n",
        "# 5. node_failures - процент отказов узлов\n",
        "#    Тип: float (0-1)\n",
        "#    Описание: Определяет долю узлов, которые не функционируют в данный момент\n",
        "node_failures = 0.25\n",
        "\n",
        "# Расчет и вывод результатов\n",
        "print(\"Gossip Interval (с) | Ширина полосы пропускания (бит/с)\")\n",
        "print(\"-\" * 50)\n",
        "for interval in gossip_intervals:\n",
        "    bandwidth = calculate_bandwidth(interval, gossip_fanout, nodes, packet_loss, node_failures)\n",
        "    print(f\"{interval:^17} | {bandwidth:,.2f}\")\n",
        "\n",
        "# Расчет средней ширины полосы пропускания\n",
        "average_bandwidth = sum(calculate_bandwidth(interval, gossip_fanout, nodes, packet_loss, node_failures)\n",
        "                        for interval in gossip_intervals) / len(gossip_intervals)\n",
        "print(\"-\" * 50)\n",
        "print(f\"Средняя ширина полосы пропускания: {average_bandwidth:,.2f} бит/с\")"
      ]
    },
    {
      "cell_type": "markdown",
      "source": [
        "# Ширина полосы пропускания (бит/с)\n",
        "Влияние Gossip Interval на использование полосы пропускания\n",
        "\n",
        "Влияние Gossip Interval на время конвергенции"
      ],
      "metadata": {
        "id": "1ku6ofBjitZM"
      }
    },
    {
      "cell_type": "code",
      "source": [
        "import math\n",
        "import random\n",
        "\n",
        "def calculate_bandwidth(gossip_interval, gossip_fanout, nodes, packet_loss, node_failures):\n",
        "    PACKET_SIZE = 1024  # байт\n",
        "    OVERHEAD = 1.2  # 20% накладных расходов\n",
        "\n",
        "    active_nodes = nodes * (1 - node_failures)\n",
        "    messages_per_second = (1 / gossip_interval) * gossip_fanout * active_nodes\n",
        "    effective_messages = messages_per_second * (1 - packet_loss)\n",
        "    data_per_second = effective_messages * PACKET_SIZE * OVERHEAD\n",
        "    bandwidth_bps = data_per_second * 8\n",
        "\n",
        "    return bandwidth_bps\n",
        "\n",
        "def estimate_convergence_time(gossip_interval, gossip_fanout, nodes, node_failures):\n",
        "    active_nodes = nodes * (1 - node_failures)\n",
        "    infection_rate = gossip_fanout / active_nodes\n",
        "    rounds_to_infect_99_percent = math.ceil(math.log(0.01) / math.log(1 - infection_rate))\n",
        "    convergence_time = rounds_to_infect_99_percent * gossip_interval\n",
        "    return convergence_time\n",
        "\n",
        "def run_simulation(gossip_intervals, gossip_fanout, nodes, packet_loss, node_failures):\n",
        "    results = []\n",
        "    for interval in gossip_intervals:\n",
        "        bandwidth = calculate_bandwidth(interval, gossip_fanout, nodes, packet_loss, node_failures)\n",
        "        convergence_time = estimate_convergence_time(interval, gossip_fanout, nodes, node_failures)\n",
        "        results.append((interval, bandwidth, convergence_time))\n",
        "    return results\n",
        "\n",
        "# Входные данные\n",
        "gossip_intervals = [0.1, 0.2, 0.5, 1.0, 2.0]\n",
        "gossip_fanout = 3\n",
        "nodes = 15\n",
        "packet_loss = 0.1\n",
        "node_failures = 0.25\n",
        "\n",
        "# Запуск симуляции\n",
        "results = run_simulation(gossip_intervals, gossip_fanout, nodes, packet_loss, node_failures)\n",
        "\n",
        "# Вывод результатов\n",
        "print(\"Gossip Interval (с) | Ширина полосы пропускания (бит/с) | Время конвергенции (с)\")\n",
        "print(\"-\" * 80)\n",
        "for interval, bandwidth, convergence_time in results:\n",
        "    print(f\"{interval:^17} | {bandwidth:^33,.2f} | {convergence_time:^21,.2f}\")\n",
        "\n",
        "# Анализ результатов\n",
        "print(\"\\nАнализ результатов:\")\n",
        "print(\"1. Влияние Gossip Interval на использование полосы пропускания:\")\n",
        "for i in range(len(results) - 1):\n",
        "    bandwidth_change = (results[i+1][1] - results[i][1]) / results[i][1] * 100\n",
        "    print(f\"   При увеличении интервала с {results[i][0]} до {results[i+1][0]} с, использование полосы пропускания изменяется на {bandwidth_change:.2f}%\")\n",
        "\n",
        "print(\"\\n2. Влияние Gossip Interval на время конвергенции:\")\n",
        "for i in range(len(results) - 1):\n",
        "    convergence_change = (results[i+1][2] - results[i][2]) / results[i][2] * 100\n",
        "    print(f\"   При увеличении интервала с {results[i][0]} до {results[i+1][0]} с, время конвергенции изменяется на {convergence_change:.2f}%\")"
      ],
      "metadata": {
        "colab": {
          "base_uri": "https://localhost:8080/"
        },
        "id": "6T6Gb56Fimtb",
        "outputId": "23fb77ef-fe18-42dd-ca76-3a7a6f18a64a"
      },
      "execution_count": 2,
      "outputs": [
        {
          "output_type": "stream",
          "name": "stdout",
          "text": [
            "Gossip Interval (с) | Ширина полосы пропускания (бит/с) | Время конвергенции (с)\n",
            "--------------------------------------------------------------------------------\n",
            "       0.1        |           2,985,984.00            |         1.50         \n",
            "       0.2        |           1,492,992.00            |         3.00         \n",
            "       0.5        |            597,196.80             |         7.50         \n",
            "       1.0        |            298,598.40             |         15.00        \n",
            "       2.0        |            149,299.20             |         30.00        \n",
            "\n",
            "Анализ результатов:\n",
            "1. Влияние Gossip Interval на использование полосы пропускания:\n",
            "   При увеличении интервала с 0.1 до 0.2 с, использование полосы пропускания изменяется на -50.00%\n",
            "   При увеличении интервала с 0.2 до 0.5 с, использование полосы пропускания изменяется на -60.00%\n",
            "   При увеличении интервала с 0.5 до 1.0 с, использование полосы пропускания изменяется на -50.00%\n",
            "   При увеличении интервала с 1.0 до 2.0 с, использование полосы пропускания изменяется на -50.00%\n",
            "\n",
            "2. Влияние Gossip Interval на время конвергенции:\n",
            "   При увеличении интервала с 0.1 до 0.2 с, время конвергенции изменяется на 100.00%\n",
            "   При увеличении интервала с 0.2 до 0.5 с, время конвергенции изменяется на 150.00%\n",
            "   При увеличении интервала с 0.5 до 1.0 с, время конвергенции изменяется на 100.00%\n",
            "   При увеличении интервала с 1.0 до 2.0 с, время конвергенции изменяется на 100.00%\n"
          ]
        }
      ]
    },
    {
      "cell_type": "code",
      "source": [],
      "metadata": {
        "id": "1e0pJNUTkRN3"
      },
      "execution_count": null,
      "outputs": []
    }
  ]
}